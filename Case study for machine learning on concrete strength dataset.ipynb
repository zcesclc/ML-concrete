{
 "cells": [
  {
   "cell_type": "markdown",
   "id": "49631ee3",
   "metadata": {},
   "source": [
    "# Supervised machine learning (use RF as an example)"
   ]
  },
  {
   "cell_type": "markdown",
   "id": "6393360a",
   "metadata": {},
   "source": [
    "Here are the general steps:\n",
    "\n",
    "Load and Explore the Dataset\n",
    "Preprocess the Data\n",
    "Split the Data into Training and Test Sets\n",
    "Train a Random Forest Model\n",
    "Evaluate the Model\n",
    "Use the Model to Make Predictions\n",
    "Use cross-validation (CV) \n",
    "Look at the feature importance\n",
    "Find optimal hyperparameters (Grid Search)"
   ]
  },
  {
   "cell_type": "markdown",
   "id": "850b6cf0",
   "metadata": {},
   "source": [
    "## load and explore the dataset"
   ]
  },
  {
   "cell_type": "code",
   "execution_count": 1,
   "id": "69b306a8",
   "metadata": {},
   "outputs": [
    {
     "data": {
      "text/html": [
       "<div>\n",
       "<style scoped>\n",
       "    .dataframe tbody tr th:only-of-type {\n",
       "        vertical-align: middle;\n",
       "    }\n",
       "\n",
       "    .dataframe tbody tr th {\n",
       "        vertical-align: top;\n",
       "    }\n",
       "\n",
       "    .dataframe thead th {\n",
       "        text-align: right;\n",
       "    }\n",
       "</style>\n",
       "<table border=\"1\" class=\"dataframe\">\n",
       "  <thead>\n",
       "    <tr style=\"text-align: right;\">\n",
       "      <th></th>\n",
       "      <th>CementComponent</th>\n",
       "      <th>BlastFurnaceSlag</th>\n",
       "      <th>FlyAshComponent</th>\n",
       "      <th>WaterComponent</th>\n",
       "      <th>SuperplasticizerComponent</th>\n",
       "      <th>CoarseAggregateComponent</th>\n",
       "      <th>FineAggregateComponent</th>\n",
       "      <th>AgeInDays</th>\n",
       "      <th>Strength</th>\n",
       "    </tr>\n",
       "  </thead>\n",
       "  <tbody>\n",
       "    <tr>\n",
       "      <th>0</th>\n",
       "      <td>540.0</td>\n",
       "      <td>0.0</td>\n",
       "      <td>0.0</td>\n",
       "      <td>162.0</td>\n",
       "      <td>2.5</td>\n",
       "      <td>1040.0</td>\n",
       "      <td>676.0</td>\n",
       "      <td>28</td>\n",
       "      <td>79.99</td>\n",
       "    </tr>\n",
       "    <tr>\n",
       "      <th>1</th>\n",
       "      <td>540.0</td>\n",
       "      <td>0.0</td>\n",
       "      <td>0.0</td>\n",
       "      <td>162.0</td>\n",
       "      <td>2.5</td>\n",
       "      <td>1055.0</td>\n",
       "      <td>676.0</td>\n",
       "      <td>28</td>\n",
       "      <td>61.89</td>\n",
       "    </tr>\n",
       "    <tr>\n",
       "      <th>2</th>\n",
       "      <td>332.5</td>\n",
       "      <td>142.5</td>\n",
       "      <td>0.0</td>\n",
       "      <td>228.0</td>\n",
       "      <td>0.0</td>\n",
       "      <td>932.0</td>\n",
       "      <td>594.0</td>\n",
       "      <td>270</td>\n",
       "      <td>40.27</td>\n",
       "    </tr>\n",
       "    <tr>\n",
       "      <th>3</th>\n",
       "      <td>332.5</td>\n",
       "      <td>142.5</td>\n",
       "      <td>0.0</td>\n",
       "      <td>228.0</td>\n",
       "      <td>0.0</td>\n",
       "      <td>932.0</td>\n",
       "      <td>594.0</td>\n",
       "      <td>365</td>\n",
       "      <td>41.05</td>\n",
       "    </tr>\n",
       "    <tr>\n",
       "      <th>4</th>\n",
       "      <td>198.6</td>\n",
       "      <td>132.4</td>\n",
       "      <td>0.0</td>\n",
       "      <td>192.0</td>\n",
       "      <td>0.0</td>\n",
       "      <td>978.4</td>\n",
       "      <td>825.5</td>\n",
       "      <td>360</td>\n",
       "      <td>44.30</td>\n",
       "    </tr>\n",
       "  </tbody>\n",
       "</table>\n",
       "</div>"
      ],
      "text/plain": [
       "   CementComponent   BlastFurnaceSlag  FlyAshComponent  WaterComponent  \\\n",
       "0             540.0               0.0              0.0           162.0   \n",
       "1             540.0               0.0              0.0           162.0   \n",
       "2             332.5             142.5              0.0           228.0   \n",
       "3             332.5             142.5              0.0           228.0   \n",
       "4             198.6             132.4              0.0           192.0   \n",
       "\n",
       "   SuperplasticizerComponent  CoarseAggregateComponent  \\\n",
       "0                        2.5                    1040.0   \n",
       "1                        2.5                    1055.0   \n",
       "2                        0.0                     932.0   \n",
       "3                        0.0                     932.0   \n",
       "4                        0.0                     978.4   \n",
       "\n",
       "   FineAggregateComponent  AgeInDays  Strength  \n",
       "0                   676.0         28     79.99  \n",
       "1                   676.0         28     61.89  \n",
       "2                   594.0        270     40.27  \n",
       "3                   594.0        365     41.05  \n",
       "4                   825.5        360     44.30  "
      ]
     },
     "execution_count": 1,
     "metadata": {},
     "output_type": "execute_result"
    }
   ],
   "source": [
    "import pandas as pd\n",
    "\n",
    "# Load the data\n",
    "data = pd.read_csv(r'C:\\Users\\cherrychan9898\\Downloads\\ConcreteStrengthData.csv')\n",
    "\n",
    "# Show the first few rows of the data\n",
    "data.head()\n"
   ]
  },
  {
   "cell_type": "markdown",
   "id": "404b0421",
   "metadata": {},
   "source": [
    "check if there are any missing values in the dataset, and to get some basic statistical information about each column. "
   ]
  },
  {
   "cell_type": "code",
   "execution_count": 2,
   "id": "5422de07",
   "metadata": {},
   "outputs": [
    {
     "data": {
      "text/plain": [
       "(CementComponent              0\n",
       " BlastFurnaceSlag             0\n",
       " FlyAshComponent              0\n",
       " WaterComponent               0\n",
       " SuperplasticizerComponent    0\n",
       " CoarseAggregateComponent     0\n",
       " FineAggregateComponent       0\n",
       " AgeInDays                    0\n",
       " Strength                     0\n",
       " dtype: int64,\n",
       "        CementComponent   BlastFurnaceSlag  FlyAshComponent  WaterComponent  \\\n",
       " count       1030.000000       1030.000000      1030.000000     1030.000000   \n",
       " mean         281.167864         73.895825        54.188350      181.567282   \n",
       " std          104.506364         86.279342        63.997004       21.354219   \n",
       " min          102.000000          0.000000         0.000000      121.800000   \n",
       " 25%          192.375000          0.000000         0.000000      164.900000   \n",
       " 50%          272.900000         22.000000         0.000000      185.000000   \n",
       " 75%          350.000000        142.950000       118.300000      192.000000   \n",
       " max          540.000000        359.400000       200.100000      247.000000   \n",
       " \n",
       "        SuperplasticizerComponent  CoarseAggregateComponent  \\\n",
       " count                1030.000000               1030.000000   \n",
       " mean                    6.204660                972.918932   \n",
       " std                     5.973841                 77.753954   \n",
       " min                     0.000000                801.000000   \n",
       " 25%                     0.000000                932.000000   \n",
       " 50%                     6.400000                968.000000   \n",
       " 75%                    10.200000               1029.400000   \n",
       " max                    32.200000               1145.000000   \n",
       " \n",
       "        FineAggregateComponent    AgeInDays     Strength  \n",
       " count             1030.000000  1030.000000  1030.000000  \n",
       " mean               773.580485    45.662136    35.817961  \n",
       " std                 80.175980    63.169912    16.705742  \n",
       " min                594.000000     1.000000     2.330000  \n",
       " 25%                730.950000     7.000000    23.710000  \n",
       " 50%                779.500000    28.000000    34.445000  \n",
       " 75%                824.000000    56.000000    46.135000  \n",
       " max                992.600000   365.000000    82.600000  )"
      ]
     },
     "execution_count": 2,
     "metadata": {},
     "output_type": "execute_result"
    }
   ],
   "source": [
    "# Check for missing values\n",
    "missing_values = data.isnull().sum()\n",
    "\n",
    "# Get basic statistical information\n",
    "statistics = data.describe()\n",
    "\n",
    "missing_values, statistics"
   ]
  },
  {
   "cell_type": "markdown",
   "id": "cfc6bf54",
   "metadata": {},
   "source": [
    "The dataset does not contain any missing values, which is great because it means we don't need to perform any imputation (a process of replacing missing data with substituted values). I am quite sure that for your dataset you need to do more to kinda clean the dataset."
   ]
  },
  {
   "cell_type": "markdown",
   "id": "8c38e7b6",
   "metadata": {},
   "source": [
    "## Data Preprocessing"
   ]
  },
  {
   "cell_type": "markdown",
   "id": "2a4067e2",
   "metadata": {},
   "source": [
    "Because our data doesn't have any missing values and all the features are numerical, we don't need to do any preprocessing like encoding categorical variables or imputing missing values. However, it's generally a good practice to normalise or standardise the data, especially when the scales of the features vary a lot."
   ]
  },
  {
   "cell_type": "code",
   "execution_count": 3,
   "id": "6b0439c1",
   "metadata": {},
   "outputs": [],
   "source": [
    "from sklearn.model_selection import train_test_split\n",
    "from sklearn.preprocessing import StandardScaler\n",
    "\n",
    "# Define the features and the target\n",
    "X = data.drop('Strength', axis=1)\n",
    "y = data['Strength']\n",
    "\n",
    "# Standardise the features\n",
    "scaler = StandardScaler()\n",
    "X_scaled = scaler.fit_transform(X)"
   ]
  },
  {
   "cell_type": "markdown",
   "id": "b692c03e",
   "metadata": {},
   "source": [
    "## Split the Data into Training and Test Sets"
   ]
  },
  {
   "cell_type": "code",
   "execution_count": 4,
   "id": "6f28dd47",
   "metadata": {},
   "outputs": [
    {
     "data": {
      "text/plain": [
       "((824, 8), (206, 8))"
      ]
     },
     "execution_count": 4,
     "metadata": {},
     "output_type": "execute_result"
    }
   ],
   "source": [
    "# Split the data into training and test sets\n",
    "X_train, X_test, y_train, y_test = train_test_split(X_scaled, y, test_size=0.2, random_state=42)\n",
    "\n",
    "X_train.shape, X_test.shape"
   ]
  },
  {
   "cell_type": "markdown",
   "id": "fc4d4dc3",
   "metadata": {},
   "source": [
    "The data has been successfully standardized and split into training and test sets. The training set has 824 examples and the test set has 206 examples. Each example has 8 features."
   ]
  },
  {
   "cell_type": "markdown",
   "id": "cde33f22",
   "metadata": {},
   "source": [
    "## Train a Random Forest model\n",
    "We'll use the RandomForestRegressor class from sklearn.ensemble. The Random Forest algorithm works by training a large number of individual decision trees on random subsets of the data and averaging their predictions. This helps to reduce overfitting and improve generalisation."
   ]
  },
  {
   "cell_type": "code",
   "execution_count": 5,
   "id": "76d7f8ee",
   "metadata": {},
   "outputs": [
    {
     "data": {
      "text/plain": [
       "RandomForestRegressor(random_state=42)"
      ]
     },
     "execution_count": 5,
     "metadata": {},
     "output_type": "execute_result"
    }
   ],
   "source": [
    "from sklearn.ensemble import RandomForestRegressor\n",
    "\n",
    "# Initialize the Random Forest Regressor\n",
    "rf = RandomForestRegressor(random_state=42)\n",
    "\n",
    "# Train the model\n",
    "rf.fit(X_train, y_train)"
   ]
  },
  {
   "cell_type": "markdown",
   "id": "6725f135",
   "metadata": {},
   "source": [
    "## Evaluate the Model\n",
    "We'll use the model to make predictions on the test set, and then compare these predictions to the actual values."
   ]
  },
  {
   "cell_type": "code",
   "execution_count": 6,
   "id": "7f990b87",
   "metadata": {},
   "outputs": [
    {
     "data": {
      "text/plain": [
       "(3.73848481449376, 29.942186389395943, 0.8837994905853568)"
      ]
     },
     "execution_count": 6,
     "metadata": {},
     "output_type": "execute_result"
    }
   ],
   "source": [
    "from sklearn.metrics import mean_absolute_error, mean_squared_error, r2_score\n",
    "\n",
    "# Use the model to make predictions on the test set\n",
    "y_pred = rf.predict(X_test)\n",
    "\n",
    "# Calculate the evaluation metrics\n",
    "mae = mean_absolute_error(y_test, y_pred)\n",
    "mse = mean_squared_error(y_test, y_pred)\n",
    "r2 = r2_score(y_test, y_pred)\n",
    "\n",
    "mae, mse, r2"
   ]
  },
  {
   "cell_type": "markdown",
   "id": "5bb69890",
   "metadata": {},
   "source": [
    "## Use the Model to Make Predictions\n",
    "Now that the model is trained, you can use it to predict the concrete strength for new data. You just need to make sure that the new data is preprocessed in the same way as the training data (i.e., the same features in the same order, and scaled in the same way). Let's demonstrate this with an example. We'll use the first example from the test set. Remember that you'll need to input the data in the form of a 2D array, even if you're only making a prediction for one example."
   ]
  },
  {
   "cell_type": "code",
   "execution_count": 7,
   "id": "a4c4ce8e",
   "metadata": {},
   "outputs": [
    {
     "data": {
      "text/plain": [
       "(51.784999999999954, 52.91)"
      ]
     },
     "execution_count": 7,
     "metadata": {},
     "output_type": "execute_result"
    }
   ],
   "source": [
    "# Let's take the first example from the test set\n",
    "example = X_test[0]\n",
    "\n",
    "# Reshape it to a 2D array\n",
    "example = example.reshape(1, -1)\n",
    "\n",
    "# Use the model to make a prediction\n",
    "prediction = rf.predict(example)\n",
    "\n",
    "# Print the predicted and actual values\n",
    "prediction[0], y_test.iloc[0]"
   ]
  },
  {
   "cell_type": "markdown",
   "id": "36e433a9",
   "metadata": {},
   "source": [
    "For the first example in the test set, our model predicted a concrete strength of approximately 51.78, while the actual strength was 52.91. "
   ]
  },
  {
   "cell_type": "markdown",
   "id": "433709ce",
   "metadata": {},
   "source": [
    "## Use cross-validation (CV)\n",
    "In k-fold cross-validation, the original sample is randomly partitioned into k equal-sized subsamples. Of the k subsamples, a single subsample is retained as the validation data for testing the model, and the remaining k-1 subsamples are used as training data. The cross-validation process is then repeated k times, with each of the k subsamples used exactly once as the validation data. The k results can then be averaged to produce a single estimation. The advantage of this method is that all observations are used for both training and validation, and each observation is used for validation exactly once.\n",
    "\n",
    "Let's perform 5-fold cross-validation on our Random Forest model. We'll use the cross_val_score function from sklearn.model_selection with the R² score as the evaluation metric."
   ]
  },
  {
   "cell_type": "code",
   "execution_count": 8,
   "id": "5690c528",
   "metadata": {},
   "outputs": [
    {
     "data": {
      "text/plain": [
       "0.34953376032838585"
      ]
     },
     "execution_count": 8,
     "metadata": {},
     "output_type": "execute_result"
    }
   ],
   "source": [
    "from sklearn.model_selection import cross_val_score\n",
    "\n",
    "# Perform 5-fold cross-validation\n",
    "cv_scores = cross_val_score(rf, X_scaled, y, cv=5, scoring='r2')\n",
    "\n",
    "# Calculate the average R² score\n",
    "cv_r2 = cv_scores.mean()\n",
    "\n",
    "cv_r2"
   ]
  },
  {
   "cell_type": "markdown",
   "id": "a1338ab4",
   "metadata": {},
   "source": [
    "The average R² score from 5-fold cross-validation is approximately 0.35. This is significantly lower than the R² score we got earlier on the test set. It might be due to the randomness in the data splitting process, causing some folds to have a harder time predicting the target variable, or it might indicate that our model is overfitting to the training data and not generalizing well to unseen data."
   ]
  },
  {
   "cell_type": "markdown",
   "id": "36bcc49b",
   "metadata": {},
   "source": [
    "##  Look at the feature importances\n",
    "Feature importance refers to techniques that assign a score to input features based on how useful they are at predicting a target variable. In tree-based methods, the importance of a feature is usually calculated as the total reduction in the criterion brought by that feature, also known as the Gini importance (CAN BE SOMETHING ELSE YOU NEED TO EXPLORE). \n",
    "\n",
    "TO PLOT GRAPHS, CHECK 'numpy' OUT"
   ]
  },
  {
   "cell_type": "code",
   "execution_count": 9,
   "id": "90112b37",
   "metadata": {},
   "outputs": [
    {
     "data": {
      "image/png": "[encoded data removed]",
      "text/plain": [
       "<Figure size 1000x600 with 1 Axes>"
      ]
     },
     "metadata": {},
     "output_type": "display_data"
    }
   ],
   "source": [
    "import matplotlib.pyplot as plt\n",
    "import numpy as np\n",
    "\n",
    "# Get the feature importances\n",
    "importances = rf.feature_importances_\n",
    "\n",
    "# Sort the feature importances in descending order\n",
    "indices = np.argsort(importances)[::-1]\n",
    "\n",
    "# Create a bar plot of the feature importances\n",
    "plt.figure(figsize=(10, 6))\n",
    "plt.title(\"Feature importances\")\n",
    "plt.bar(X.columns[indices], importances[indices], color=\"r\", align=\"center\")\n",
    "plt.xticks(X.columns[indices], rotation='vertical')\n",
    "plt.xlim([-1, X.shape[1]])\n",
    "plt.show()"
   ]
  },
  {
   "cell_type": "markdown",
   "id": "de17ca36",
   "metadata": {},
   "source": [
    "## Find optimal hyperparameters (Grid Search)\n",
    "Grid Search is a tuning technique that attempts to compute the optimum values of hyperparameters. It is an exhaustive search that is performed on a the specific parameter values of a model. The model is then evaluated at each combination of parameter values."
   ]
  },
  {
   "cell_type": "markdown",
   "id": "26d6b80d",
   "metadata": {},
   "source": [
    "Here, we will tune the following parameters:\n",
    "n_estimators: The number of trees in the forest.\n",
    "max_depth: The maximum depth of the tree.\n",
    "min_samples_split: The minimum number of samples required to split an internal node.\n",
    "min_samples_leaf: The minimum number of samples required to be at a leaf node.\n",
    "\n",
    "please make sure you sure what these are...you need to explore more on different models"
   ]
  },
  {
   "cell_type": "code",
   "execution_count": 10,
   "id": "f0ee3cf3",
   "metadata": {},
   "outputs": [
    {
     "name": "stdout",
     "output_type": "stream",
     "text": [
      "Fitting 5 folds for each of 108 candidates, totalling 540 fits\n"
     ]
    },
    {
     "data": {
      "text/plain": [
       "({'max_depth': 20,\n",
       "  'min_samples_leaf': 1,\n",
       "  'min_samples_split': 2,\n",
       "  'n_estimators': 200},\n",
       " 0.9086758560770086)"
      ]
     },
     "execution_count": 10,
     "metadata": {},
     "output_type": "execute_result"
    }
   ],
   "source": [
    "from sklearn.model_selection import GridSearchCV\n",
    "\n",
    "# Define the parameter grid\n",
    "param_grid = {\n",
    "    'n_estimators': [50, 100, 200],\n",
    "    'max_depth': [None, 10, 20, 30],\n",
    "    'min_samples_split': [2, 5, 10],\n",
    "    'min_samples_leaf': [1, 2, 4],\n",
    "}\n",
    "\n",
    "# Initialize the grid search\n",
    "grid_search = GridSearchCV(rf, param_grid, cv=5, scoring='r2', verbose=1, n_jobs=-1)\n",
    "\n",
    "# Fit the grid search\n",
    "grid_search.fit(X_train, y_train)\n",
    "\n",
    "# Get the best parameters and the best score\n",
    "best_params = grid_search.best_params_\n",
    "best_score = grid_search.best_score_\n",
    "\n",
    "best_params, best_score\n"
   ]
  },
  {
   "cell_type": "markdown",
   "id": "1187138e",
   "metadata": {},
   "source": [
    "With these parameters, the model achieved an average R² score of approximately 0.91 across the 5 folds of the cross-validation. This is a significant improvement over the original model."
   ]
  },
  {
   "cell_type": "code",
   "execution_count": 11,
   "id": "7db6af24",
   "metadata": {},
   "outputs": [
    {
     "data": {
      "text/plain": [
       "RandomForestRegressor(max_depth=20, n_estimators=200, random_state=42)"
      ]
     },
     "execution_count": 11,
     "metadata": {},
     "output_type": "execute_result"
    }
   ],
   "source": [
    "rf_optimal = RandomForestRegressor(\n",
    "    n_estimators=best_params['n_estimators'],\n",
    "    max_depth=best_params['max_depth'],\n",
    "    min_samples_split=best_params['min_samples_split'],\n",
    "    min_samples_leaf=best_params['min_samples_leaf'],\n",
    "    random_state=42\n",
    ")\n",
    "rf_optimal.fit(X_train, y_train)"
   ]
  },
  {
   "cell_type": "markdown",
   "id": "3ec6efe2",
   "metadata": {},
   "source": [
    "Calculate these metrics for our model..."
   ]
  },
  {
   "cell_type": "code",
   "execution_count": 12,
   "id": "65dab7aa",
   "metadata": {},
   "outputs": [
    {
     "data": {
      "text/plain": [
       "(3.790041746439244, 30.717388908911364, 0.8807910620592719)"
      ]
     },
     "execution_count": 12,
     "metadata": {},
     "output_type": "execute_result"
    }
   ],
   "source": [
    "# Initialize the Random Forest Regressor with the best parameters\n",
    "rf_optimal = RandomForestRegressor(\n",
    "    n_estimators=best_params['n_estimators'],\n",
    "    max_depth=best_params['max_depth'],\n",
    "    min_samples_split=best_params['min_samples_split'],\n",
    "    min_samples_leaf=best_params['min_samples_leaf'],\n",
    "    random_state=42\n",
    ")\n",
    "\n",
    "# Train the model\n",
    "rf_optimal.fit(X_train, y_train)\n",
    "\n",
    "# Use the model to make predictions on the test set\n",
    "y_pred_optimal = rf_optimal.predict(X_test)\n",
    "\n",
    "# Calculate the evaluation metrics\n",
    "mae_optimal = mean_absolute_error(y_test, y_pred_optimal)\n",
    "mse_optimal = mean_squared_error(y_test, y_pred_optimal)\n",
    "r2_optimal = r2_score(y_test, y_pred_optimal)\n",
    "\n",
    "mae_optimal, mse_optimal, r2_optimal"
   ]
  },
  {
   "cell_type": "markdown",
   "id": "928582da",
   "metadata": {},
   "source": [
    "Use this model to predict again..."
   ]
  },
  {
   "cell_type": "code",
   "execution_count": 13,
   "id": "1acaf4a8",
   "metadata": {},
   "outputs": [
    {
     "data": {
      "text/plain": [
       "(71.40054999999981, 74.5)"
      ]
     },
     "execution_count": 13,
     "metadata": {},
     "output_type": "execute_result"
    }
   ],
   "source": [
    "# Let's take the third example from the test set\n",
    "example_optimal_2 = X_test[2]\n",
    "\n",
    "# Reshape it to a 2D array\n",
    "example_optimal_2 = example_optimal_2.reshape(1, -1)\n",
    "\n",
    "# Use the optimal model to make a prediction\n",
    "prediction_optimal_2 = rf_optimal.predict(example_optimal_2)\n",
    "\n",
    "# Print the predicted and actual values\n",
    "prediction_optimal_2[0], y_test.iloc[2]"
   ]
  },
  {
   "cell_type": "markdown",
   "id": "310c358d",
   "metadata": {},
   "source": [
    "For the third example in the test set, our optimized model predicted a concrete strength of approximately 71.40, while the actual strength was 74.5. As you can see, the prediction is quite close to the actual value."
   ]
  },
  {
   "cell_type": "markdown",
   "id": "5847f78f",
   "metadata": {},
   "source": [
    "## Conduct a sensitivity analysis"
   ]
  },
  {
   "cell_type": "code",
   "execution_count": 16,
   "id": "4a610c4a",
   "metadata": {},
   "outputs": [
    {
     "name": "stderr",
     "output_type": "stream",
     "text": [
      "C:\\Users\\cherrychan9898\\AppData\\Local\\Temp\\ipykernel_18640\\3366095557.py:14: FutureWarning: The frame.append method is deprecated and will be removed from pandas in a future version. Use pandas.concat instead.\n",
      "  sensitivity_data_scaled = mean_values_scaled.copy().append([mean_values_scaled]*(len(cement_df_scaled)-1), ignore_index=True)\n",
      "C:\\Users\\cherrychan9898\\anaconda3\\lib\\site-packages\\sklearn\\base.py:443: UserWarning: X has feature names, but RandomForestRegressor was fitted without feature names\n",
      "  warnings.warn(\n"
     ]
    },
    {
     "data": {
      "image/png": "[encoded data removed]",
      "text/plain": [
       "<Figure size 1000x600 with 1 Axes>"
      ]
     },
     "metadata": {},
     "output_type": "display_data"
    }
   ],
   "source": [
    "# Convert the scaled data back into a DataFrame\n",
    "X_scaled_df = pd.DataFrame(X_scaled, columns=X.columns)\n",
    "\n",
    "# Create a DataFrame with the mean values of the features\n",
    "mean_values_scaled = pd.DataFrame(data=np.array([X_scaled_df.mean()]), columns=X_scaled_df.columns)\n",
    "\n",
    "# Create a range of values for the Cement variable (0th column)\n",
    "cement_values_scaled = np.linspace(X_scaled_df.iloc[:, 0].min(), X_scaled_df.iloc[:, 0].max(), num=100)\n",
    "\n",
    "# Create a DataFrame with these values repeated for each example\n",
    "cement_df_scaled = pd.concat([pd.DataFrame(data=np.array([val]*len(mean_values_scaled)), columns=[0]) for val in cement_values_scaled], ignore_index=True)\n",
    "\n",
    "# Replace the Cement values in the mean_values_scaled DataFrame with these values\n",
    "sensitivity_data_scaled = mean_values_scaled.copy().append([mean_values_scaled]*(len(cement_df_scaled)-1), ignore_index=True)\n",
    "sensitivity_data_scaled.iloc[:, 0] = cement_values_scaled\n",
    "\n",
    "# Use the model to make predictions for this data\n",
    "sensitivity_predictions_scaled = rf_optimal.predict(sensitivity_data_scaled)\n",
    "\n",
    "# Plot the Cement values against the predicted Strength\n",
    "plt.figure(figsize=(10, 6))\n",
    "plt.plot(cement_values_scaled, sensitivity_predictions_scaled)\n",
    "plt.xlabel('Cement (scaled)')\n",
    "plt.ylabel('Predicted Strength')\n",
    "plt.title('Sensitivity Analysis: Effect of Cement on Predicted Strength')\n",
    "plt.show()\n"
   ]
  },
  {
   "cell_type": "markdown",
   "id": "894b53fc",
   "metadata": {},
   "source": [
    "The plot above shows the predicted strength of the concrete as we vary the amount of cement (scaled), while keeping all other features constant at their mean values. This type of plot is a simple way to visualize the sensitivity of the model's predictions to changes in one of the input features.\n",
    "\n",
    "From the plot, we can see that as the amount of cement increases, the predicted strength of the concrete also generally increases. This indicates that the model has learned a positive relationship between the amount of cement and the strength of the concrete, which makes sense intuitively.\n",
    "\n",
    "However, the relationship is not strictly linear, and there are some fluctuations in the predicted strength as the amount of cement changes. This suggests that the other features also have an important impact on the predicted strength, and that the relationships between the features and the target variable are complex.\n",
    "\n",
    "This sensitivity analysis gives us some insight into the model's predictions, but it's important to remember that it is a simplification. In reality, all of the features can interact with each other in complex ways, and changing one feature can have indirect effects on the target variable through its interactions with the other features."
   ]
  }
 ],
 "metadata": {
  "kernelspec": {
   "display_name": "Python 3 (ipykernel)",
   "language": "python",
   "name": "python3"
  },
  "language_info": {
   "codemirror_mode": {
    "name": "ipython",
    "version": 3
   },
   "file_extension": ".py",
   "mimetype": "text/x-python",
   "name": "python",
   "nbconvert_exporter": "python",
   "pygments_lexer": "ipython3",
   "version": "3.9.13"
  }
 },
 "nbformat": 4,
 "nbformat_minor": 5
}
